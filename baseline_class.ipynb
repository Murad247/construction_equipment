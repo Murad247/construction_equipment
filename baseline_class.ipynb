{
 "cells": [
  {
   "cell_type": "code",
   "execution_count": null,
   "metadata": {},
   "outputs": [],
   "source": [
    "# all - 4990\n",
    "\n",
    "# 2555\n",
    "# car - 1586\n",
    "# human - 969\n",
    "\n",
    "# 2435\n",
    "# rink - 293\n",
    "# dump_truck - 797\n",
    "# bulldozer - 194\n",
    "# excavator - 316\n",
    "# mining_loader - 514\n",
    "# truck_crane - 321"
   ]
  },
  {
   "cell_type": "code",
   "execution_count": 1,
   "metadata": {
    "id": "Gzuv2run9Yxa"
   },
   "outputs": [],
   "source": [
    "import pandas as pd \n",
    "import numpy as np\n",
    "from sklearn.model_selection import train_test_split\n",
    "import os\n",
    "\n",
    "os.environ['TF_FORCE_GPU_ALLOW_GROWTH'] = 'true'\n",
    "\n",
    "import tensorflow as tf\n",
    "from tensorflow.keras.layers import *\n",
    "from tensorflow.keras.models import *\n",
    "\n",
    "from pipeline import make_pipeline_multy_label\n",
    "from sklearn.metrics import recall_score\n",
    "\n",
    "path_to_models = 'models'\n",
    "if not os.path.isdir(path_to_models):\n",
    "    os.mkdir(path_to_models)"
   ]
  },
  {
   "cell_type": "markdown",
   "metadata": {},
   "source": [
    "# Step 1"
   ]
  },
  {
   "cell_type": "code",
   "execution_count": 2,
   "metadata": {},
   "outputs": [
    {
     "data": {
      "text/plain": [
       "((4990, 224, 224, 3), (4990, 2), (0,), (0,))"
      ]
     },
     "execution_count": 2,
     "metadata": {},
     "output_type": "execute_result"
    }
   ],
   "source": [
    "X, Y = [], []\n",
    "train_path = 'data/step_1'\n",
    "W, H, D = 224,224,3\n",
    "for img, label in make_pipeline_multy_label(train_path, \n",
    "                                            batch_size=1, \n",
    "                                            shuffle=True, \n",
    "                                            labels=True, \n",
    "                                            class_names = ['car_human',\n",
    "                                                           'other'],\n",
    "                                            im_size=(W, H, D)):\n",
    "    X.append(np.array(img[0]))\n",
    "    Y.append(np.array(label[0]))\n",
    "    \n",
    "s = 1 # 0.8\n",
    "\n",
    "x_train, y_train = np.array(X[:int(len(Y) * s)]), np.array(Y[:int(len(Y) * s)])\n",
    "x_test, y_test = np.array(X[int(len(Y) * s):]), np.array(Y[int(len(Y) * s):])\n",
    "x_train.shape, y_train.shape, x_test.shape, y_test.shape"
   ]
  },
  {
   "cell_type": "code",
   "execution_count": null,
   "metadata": {
    "scrolled": true
   },
   "outputs": [],
   "source": [
    "xception = tf.keras.applications.Xception(\n",
    "    include_top=0,\n",
    "    weights='imagenet',\n",
    "    input_tensor=None,\n",
    "    input_shape=(W, H, D),\n",
    "    pooling=None,\n",
    ")\n",
    "\n",
    "# flag = False\n",
    "# for layer in xception.layers:\n",
    "#     layer.trainable = flag\n",
    "#     if 'block7' in layer.name:\n",
    "#         flag = True\n",
    "#         layer.trainable = True\n",
    "#     else:\n",
    "#         layer.trainable = False\n",
    "        \n",
    "xception.summary()"
   ]
  },
  {
   "cell_type": "code",
   "execution_count": 4,
   "metadata": {},
   "outputs": [
    {
     "name": "stdout",
     "output_type": "stream",
     "text": [
      "Model: \"model\"\n",
      "_________________________________________________________________\n",
      " Layer (type)                Output Shape              Param #   \n",
      "=================================================================\n",
      " input_2 (InputLayer)        [(None, 224, 224, 3)]     0         \n",
      "                                                                 \n",
      " xception (Functional)       (None, 7, 7, 2048)        20861480  \n",
      "                                                                 \n",
      " global_max_pooling2d (Globa  (None, 2048)             0         \n",
      " lMaxPooling2D)                                                  \n",
      "                                                                 \n",
      " dense (Dense)               (None, 128)               262272    \n",
      "                                                                 \n",
      " dropout (Dropout)           (None, 128)               0         \n",
      "                                                                 \n",
      " dense_1 (Dense)             (None, 2)                 258       \n",
      "                                                                 \n",
      "=================================================================\n",
      "Total params: 21,124,010\n",
      "Trainable params: 21,069,482\n",
      "Non-trainable params: 54,528\n",
      "_________________________________________________________________\n"
     ]
    }
   ],
   "source": [
    "inp = Input(shape=(W,H,D))\n",
    "\n",
    "layer = xception(inputs=inp)\n",
    "layer = GlobalMaxPooling2D()(layer)\n",
    "layer = Dense(units=128,\n",
    "              activation='relu')(layer)\n",
    "layer = Dropout(0.5)(layer)\n",
    "layer = Dense(units=2,\n",
    "              activation='softmax')(layer)\n",
    "\n",
    "model = Model(inputs=inp, outputs=layer)\n",
    "\n",
    "model.compile(loss='categorical_crossentropy',\n",
    "            optimizer=tf.keras.optimizers.Adam(learning_rate=1e-4),\n",
    "            metrics=[tf.keras.metrics.Recall()])\n",
    "\n",
    "model.summary()\n",
    "# tf.keras.utils.plot_model(model, show_shapes=1)"
   ]
  },
  {
   "cell_type": "code",
   "execution_count": 5,
   "metadata": {
    "scrolled": true
   },
   "outputs": [
    {
     "name": "stdout",
     "output_type": "stream",
     "text": [
      "Epoch 1/5\n",
      "78/78 [==============================] - 37s 394ms/step - loss: 0.1403 - recall: 0.9415\n",
      "Epoch 2/5\n",
      "78/78 [==============================] - 29s 377ms/step - loss: 0.0145 - recall: 0.9950\n",
      "Epoch 3/5\n",
      "78/78 [==============================] - 30s 388ms/step - loss: 0.0046 - recall: 0.9982\n",
      "Epoch 4/5\n",
      "78/78 [==============================] - 29s 374ms/step - loss: 0.0021 - recall: 0.9996\n",
      "Epoch 5/5\n",
      "78/78 [==============================] - 28s 365ms/step - loss: 0.0031 - recall: 0.9990\n"
     ]
    }
   ],
   "source": [
    "epochs = 5\n",
    "\n",
    "history = model.fit(x_train, \n",
    "                    y_train, \n",
    "                    epochs=epochs, \n",
    "                    validation_data=(x_test, y_test), \n",
    "                    batch_size=64)"
   ]
  },
  {
   "cell_type": "code",
   "execution_count": 7,
   "metadata": {},
   "outputs": [],
   "source": [
    "model.save(f'{path_to_models}/xception_1.h5')"
   ]
  },
  {
   "cell_type": "code",
   "execution_count": 7,
   "metadata": {},
   "outputs": [
    {
     "name": "stdout",
     "output_type": "stream",
     "text": [
      "Validation accuracy = 0.9859210563439889\n"
     ]
    }
   ],
   "source": [
    "if len(x_test) > 0:\n",
    "    data = []\n",
    "    valid = np.argmax(model.predict(x_test), axis=1)\n",
    "\n",
    "    val_accuracy = recall_score(np.argmax(y_test, axis=1), valid, average = \"macro\")\n",
    "    print(f\"Validation accuracy = {val_accuracy}\")"
   ]
  },
  {
   "cell_type": "code",
   "execution_count": null,
   "metadata": {},
   "outputs": [],
   "source": []
  },
  {
   "cell_type": "markdown",
   "metadata": {},
   "source": [
    "# Step 2"
   ]
  },
  {
   "cell_type": "code",
   "execution_count": 9,
   "metadata": {},
   "outputs": [
    {
     "data": {
      "text/plain": [
       "((2555, 224, 224, 3), (2555, 2), (0,), (0,))"
      ]
     },
     "execution_count": 9,
     "metadata": {},
     "output_type": "execute_result"
    }
   ],
   "source": [
    "X, Y = [], []\n",
    "train_path = 'data/step_2'\n",
    "for img, label in make_pipeline_multy_label(train_path, \n",
    "                                            batch_size=1, \n",
    "                                            shuffle=True, \n",
    "                                            labels=True, \n",
    "                                            class_names = ['car',\n",
    "                                                           'human'],\n",
    "                                            im_size=(W, H, D)):\n",
    "    X.append(np.array(img[0]))\n",
    "    Y.append(np.array(label[0]))\n",
    "    \n",
    "s = 1\n",
    "\n",
    "x_train, y_train = np.array(X[:int(len(Y) * s)]), np.array(Y[:int(len(Y) * s)])\n",
    "x_test, y_test = np.array(X[int(len(Y) * s):]), np.array(Y[int(len(Y) * s):])\n",
    "x_train.shape, y_train.shape, x_test.shape, y_test.shape"
   ]
  },
  {
   "cell_type": "code",
   "execution_count": null,
   "metadata": {
    "scrolled": true
   },
   "outputs": [],
   "source": [
    "xception = tf.keras.applications.Xception(\n",
    "    include_top=0,\n",
    "    weights='imagenet',\n",
    "    input_tensor=None,\n",
    "    input_shape=(W, H, D),\n",
    "    pooling=None,\n",
    ")\n",
    "\n",
    "# flag = False\n",
    "# for layer in xception.layers:\n",
    "#     layer.trainable = flag\n",
    "# #     print(layer.name)\n",
    "# #     print('block4_conv1' == layer.name)\n",
    "#     if 'block7' in layer.name:\n",
    "#         flag = True\n",
    "#         layer.trainable = True\n",
    "#     else:\n",
    "#         layer.trainable = False\n",
    "        \n",
    "xception.summary()"
   ]
  },
  {
   "cell_type": "code",
   "execution_count": 11,
   "metadata": {},
   "outputs": [
    {
     "name": "stdout",
     "output_type": "stream",
     "text": [
      "Model: \"model_1\"\n",
      "_________________________________________________________________\n",
      " Layer (type)                Output Shape              Param #   \n",
      "=================================================================\n",
      " input_4 (InputLayer)        [(None, 224, 224, 3)]     0         \n",
      "                                                                 \n",
      " xception (Functional)       (None, 7, 7, 2048)        20861480  \n",
      "                                                                 \n",
      " global_max_pooling2d_1 (Glo  (None, 2048)             0         \n",
      " balMaxPooling2D)                                                \n",
      "                                                                 \n",
      " dense_2 (Dense)             (None, 128)               262272    \n",
      "                                                                 \n",
      " dropout_1 (Dropout)         (None, 128)               0         \n",
      "                                                                 \n",
      " dense_3 (Dense)             (None, 2)                 258       \n",
      "                                                                 \n",
      "=================================================================\n",
      "Total params: 21,124,010\n",
      "Trainable params: 21,069,482\n",
      "Non-trainable params: 54,528\n",
      "_________________________________________________________________\n"
     ]
    }
   ],
   "source": [
    "inp = Input(shape=(W,H,D))\n",
    "\n",
    "layer = xception(inputs=inp)\n",
    "layer = GlobalMaxPooling2D()(layer)\n",
    "layer = Dense(units=128,\n",
    "              activation='relu')(layer)\n",
    "layer = Dropout(0.5)(layer)\n",
    "layer = Dense(units=2,\n",
    "              activation='softmax')(layer)\n",
    "\n",
    "model = Model(inputs=inp, outputs=layer)\n",
    "\n",
    "model.compile(loss='categorical_crossentropy',\n",
    "            optimizer=tf.keras.optimizers.Adam(learning_rate=1e-4),\n",
    "            metrics=[tf.keras.metrics.Recall()])\n",
    "\n",
    "model.summary()\n",
    "# tf.keras.utils.plot_model(model, show_shapes=1)"
   ]
  },
  {
   "cell_type": "code",
   "execution_count": 12,
   "metadata": {
    "scrolled": true
   },
   "outputs": [
    {
     "name": "stdout",
     "output_type": "stream",
     "text": [
      "Epoch 1/4\n",
      "40/40 [==============================] - 19s 399ms/step - loss: 0.1425 - recall_1: 0.9397\n",
      "Epoch 2/4\n",
      "40/40 [==============================] - 15s 379ms/step - loss: 0.0115 - recall_1: 0.9965\n",
      "Epoch 3/4\n",
      "40/40 [==============================] - 15s 367ms/step - loss: 0.0029 - recall_1: 0.9996\n",
      "Epoch 4/4\n",
      "40/40 [==============================] - 15s 370ms/step - loss: 0.0012 - recall_1: 0.9996\n"
     ]
    }
   ],
   "source": [
    "epochs = 4\n",
    "\n",
    "history = model.fit(x_train, \n",
    "                    y_train, \n",
    "                    epochs=epochs, \n",
    "                    validation_data=(x_test, y_test), \n",
    "                    batch_size=64)"
   ]
  },
  {
   "cell_type": "code",
   "execution_count": 13,
   "metadata": {},
   "outputs": [],
   "source": [
    "model.save(f'{path_to_models}/xception_2.h5')"
   ]
  },
  {
   "cell_type": "code",
   "execution_count": 12,
   "metadata": {},
   "outputs": [
    {
     "name": "stdout",
     "output_type": "stream",
     "text": [
      "Validation accuracy = 1.0\n"
     ]
    }
   ],
   "source": [
    "if len(x_test) > 0:\n",
    "    data = []\n",
    "    valid = np.argmax(model.predict(x_test), axis=1)\n",
    "\n",
    "    val_accuracy = recall_score(np.argmax(y_test, axis=1), valid, average = \"macro\")\n",
    "    print(f\"Validation accuracy = {val_accuracy}\")"
   ]
  },
  {
   "cell_type": "code",
   "execution_count": null,
   "metadata": {},
   "outputs": [],
   "source": []
  },
  {
   "cell_type": "markdown",
   "metadata": {},
   "source": [
    "# Step 3"
   ]
  },
  {
   "cell_type": "code",
   "execution_count": 15,
   "metadata": {},
   "outputs": [
    {
     "data": {
      "text/plain": [
       "((2435, 224, 224, 3), (2435, 6), (0,), (0,))"
      ]
     },
     "execution_count": 15,
     "metadata": {},
     "output_type": "execute_result"
    }
   ],
   "source": [
    "X, Y = [], []\n",
    "train_path = 'data/step_3'\n",
    "for img, label in make_pipeline_multy_label(train_path, \n",
    "                                            batch_size=1, \n",
    "                                            shuffle=True, \n",
    "                                            labels=True, \n",
    "                                            class_names = ['truck_crane',\n",
    "                                                           'excavator',\n",
    "                                                           'dump_truck',\n",
    "                                                           'mining_loader',\n",
    "                                                           'rink',\n",
    "                                                           'bulldozer'],\n",
    "                                            im_size=(W, H, D)):\n",
    "    X.append(np.array(img[0]))\n",
    "    Y.append(np.array(label[0]))\n",
    "    \n",
    "s = 1\n",
    "\n",
    "x_train, y_train = np.array(X[:int(len(Y) * s)]), np.array(Y[:int(len(Y) * s)])\n",
    "x_test, y_test = np.array(X[int(len(Y) * s):]), np.array(Y[int(len(Y) * s):])\n",
    "x_train.shape, y_train.shape, x_test.shape, y_test.shape"
   ]
  },
  {
   "cell_type": "code",
   "execution_count": null,
   "metadata": {
    "scrolled": true
   },
   "outputs": [],
   "source": [
    "xception = tf.keras.applications.Xception(\n",
    "    include_top=0,\n",
    "    weights='imagenet',\n",
    "    input_tensor=None,\n",
    "    input_shape=(W, H, D),\n",
    "    pooling=None,\n",
    ")\n",
    "\n",
    "flag = False\n",
    "for layer in xception.layers:\n",
    "    layer.trainable = flag\n",
    "    if 'block10' in layer.name:\n",
    "        flag = True\n",
    "        layer.trainable = True\n",
    "\n",
    "xception.summary()"
   ]
  },
  {
   "cell_type": "code",
   "execution_count": 17,
   "metadata": {},
   "outputs": [
    {
     "name": "stdout",
     "output_type": "stream",
     "text": [
      "Model: \"model_2\"\n",
      "_________________________________________________________________\n",
      " Layer (type)                Output Shape              Param #   \n",
      "=================================================================\n",
      " input_6 (InputLayer)        [(None, 224, 224, 3)]     0         \n",
      "                                                                 \n",
      " xception (Functional)       (None, 7, 7, 2048)        20861480  \n",
      "                                                                 \n",
      " global_max_pooling2d_2 (Glo  (None, 2048)             0         \n",
      " balMaxPooling2D)                                                \n",
      "                                                                 \n",
      " dense_4 (Dense)             (None, 128)               262272    \n",
      "                                                                 \n",
      " dropout_2 (Dropout)         (None, 128)               0         \n",
      "                                                                 \n",
      " dense_5 (Dense)             (None, 6)                 774       \n",
      "                                                                 \n",
      "=================================================================\n",
      "Total params: 21,124,526\n",
      "Trainable params: 11,893,358\n",
      "Non-trainable params: 9,231,168\n",
      "_________________________________________________________________\n"
     ]
    }
   ],
   "source": [
    "inp = Input(shape=(W,H,D))\n",
    "\n",
    "layer = xception(inputs=inp)\n",
    "layer = GlobalMaxPooling2D()(layer)\n",
    "layer = Dense(units=128,\n",
    "              activation='relu')(layer)\n",
    "layer = Dropout(0.5)(layer)\n",
    "layer = Dense(units=6,\n",
    "              activation='softmax')(layer)\n",
    "\n",
    "model = Model(inputs=inp, outputs=layer)\n",
    "\n",
    "model.compile(loss='categorical_crossentropy',\n",
    "            optimizer=tf.keras.optimizers.Adam(learning_rate=1e-4),\n",
    "            metrics=['acc', tf.keras.metrics.Precision(), tf.keras.metrics.Recall()])\n",
    "\n",
    "model.summary()\n",
    "# tf.keras.utils.plot_model(model, show_shapes=1)"
   ]
  },
  {
   "cell_type": "code",
   "execution_count": 18,
   "metadata": {},
   "outputs": [
    {
     "name": "stdout",
     "output_type": "stream",
     "text": [
      "Epoch 1/10\n",
      "39/39 [==============================] - 6s 95ms/step - loss: 1.1858 - acc: 0.5906 - precision: 0.7732 - recall_2: 0.4312\n",
      "Epoch 2/10\n",
      "39/39 [==============================] - 3s 87ms/step - loss: 0.2773 - acc: 0.9088 - precision: 0.9476 - recall_2: 0.8768\n",
      "Epoch 3/10\n",
      "39/39 [==============================] - 3s 87ms/step - loss: 0.1057 - acc: 0.9688 - precision: 0.9766 - recall_2: 0.9602\n",
      "Epoch 4/10\n",
      "39/39 [==============================] - 3s 87ms/step - loss: 0.0928 - acc: 0.9725 - precision: 0.9783 - recall_2: 0.9634\n",
      "Epoch 5/10\n",
      "39/39 [==============================] - 3s 87ms/step - loss: 0.0480 - acc: 0.9852 - precision: 0.9884 - recall_2: 0.9832\n",
      "Epoch 6/10\n",
      "39/39 [==============================] - 3s 87ms/step - loss: 0.0267 - acc: 0.9951 - precision: 0.9959 - recall_2: 0.9926\n",
      "Epoch 7/10\n",
      "39/39 [==============================] - 3s 87ms/step - loss: 0.0205 - acc: 0.9947 - precision: 0.9955 - recall_2: 0.9943\n",
      "Epoch 8/10\n",
      "39/39 [==============================] - 3s 87ms/step - loss: 0.0436 - acc: 0.9889 - precision: 0.9909 - recall_2: 0.9848\n",
      "Epoch 9/10\n",
      "39/39 [==============================] - 3s 88ms/step - loss: 0.0435 - acc: 0.9885 - precision: 0.9905 - recall_2: 0.9848\n",
      "Epoch 10/10\n",
      "39/39 [==============================] - 3s 87ms/step - loss: 0.0295 - acc: 0.9922 - precision: 0.9938 - recall_2: 0.9910\n"
     ]
    }
   ],
   "source": [
    "epochs = 10\n",
    "\n",
    "history = model.fit(x_train, \n",
    "                    y_train, \n",
    "#                     steps_per_epoch=50,\n",
    "                    epochs=epochs, \n",
    "                    validation_data=(x_test, y_test), \n",
    "                    batch_size=64)"
   ]
  },
  {
   "cell_type": "code",
   "execution_count": 19,
   "metadata": {},
   "outputs": [],
   "source": [
    "model.save(f'{path_to_models}/xception_3.h5')"
   ]
  },
  {
   "cell_type": "code",
   "execution_count": 22,
   "metadata": {},
   "outputs": [
    {
     "name": "stdout",
     "output_type": "stream",
     "text": [
      "Validation accuracy = 0.9623998751404526\n"
     ]
    }
   ],
   "source": [
    "if len(x_test) > 0:\n",
    "    data = []\n",
    "    valid = np.argmax(model.predict(x_test), axis=1)\n",
    "\n",
    "    val_accuracy = recall_score(np.argmax(y_test, axis=1), valid, average = \"macro\")\n",
    "    print(f\"Validation accuracy = {val_accuracy}\")"
   ]
  },
  {
   "cell_type": "code",
   "execution_count": null,
   "metadata": {},
   "outputs": [],
   "source": []
  }
 ],
 "metadata": {
  "accelerator": "GPU",
  "colab": {
   "provenance": []
  },
  "hide_input": false,
  "kernelspec": {
   "display_name": "Python 3 (ipykernel)",
   "language": "python",
   "name": "python3"
  },
  "language_info": {
   "codemirror_mode": {
    "name": "ipython",
    "version": 3
   },
   "file_extension": ".py",
   "mimetype": "text/x-python",
   "name": "python",
   "nbconvert_exporter": "python",
   "pygments_lexer": "ipython3",
   "version": "3.8.13"
  }
 },
 "nbformat": 4,
 "nbformat_minor": 1
}
